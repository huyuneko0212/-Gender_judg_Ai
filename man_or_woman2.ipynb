{
 "cells": [
  {
   "cell_type": "markdown",
   "metadata": {},
   "source": [
    "# 性別判定AI開発(カラー画像)\n"
   ]
  },
  {
   "cell_type": "markdown",
   "metadata": {},
   "source": [
    "# 画像データ収集"
   ]
  },
  {
   "cell_type": "code",
   "execution_count": null,
   "metadata": {},
   "outputs": [],
   "source": [
    "from icrawler.builtin import BingImageCrawler\n",
    "# 収集対象（検索キーワード）を指定する\n",
    "keywords = {\"男\":\"男性\",\"女\":\"女性\"}\n",
    "for dir_name, keyword in keywords.items():    \n",
    "    # 画像収集インスタンスの生成\n",
    "    icrawler = BingImageCrawler(storage={\"root_dir\":\"./data/human/\"+dir_name})\n",
    "    # 収集開始\n",
    "    icrawler.crawl(keyword=keyword, max_num=100)"
   ]
  },
  {
   "cell_type": "markdown",
   "metadata": {},
   "source": [
    "# テストデータ収集\n"
   ]
  },
  {
   "cell_type": "code",
   "execution_count": null,
   "metadata": {},
   "outputs": [],
   "source": [
    "from icrawler.builtin import BingImageCrawler\n",
    "# 収集対象（検索キーワード）を指定する\n",
    "keywords = {\"man\":\"男性\",\"woman\":\"女性\"}\n",
    "for dir_name, keyword in keywords.items():    \n",
    "    # 画像収集インスタンスの生成\n",
    "    icrawler = BingImageCrawler(storage={\"root_dir\":\"./data/test/\"+dir_name})\n",
    "    # 収集開始\n",
    "    icrawler.crawl(keyword=keyword, max_num=5)"
   ]
  },
  {
   "cell_type": "markdown",
   "metadata": {},
   "source": [
    "\n",
    "# 1 学習として不適切な画像を除去\n",
    "\n",
    "humanフォルダから性別違い、横向き、肌の色が特殊な画像など、学習させるのに不向きな画像を除去する\n",
    "\n",
    "※除去したのち男フォルダと女フォルダの画像枚数をそろえる"
   ]
  },
  {
   "cell_type": "markdown",
   "metadata": {},
   "source": [
    "# 2 学習・検証用データ作成"
   ]
  },
  {
   "cell_type": "code",
   "execution_count": null,
   "metadata": {},
   "outputs": [],
   "source": [
    "import glob\n",
    "import numpy as np\n",
    "import cv2\n",
    "import matplotlib.pyplot as plt\n",
    "import pickle\n",
    "out_dir = \"./data/human/\"\n",
    "im_size = 50\n",
    "im_color=3\n",
    "save_file = out_dir + \"/humandata2.pickle\"\n",
    "#人間の画像が入っているディレクトリから画像を取得\n",
    "humandir = [\"man\",\"woman\"]\n",
    "result = []\n",
    "for i, dir in enumerate(humandir):\n",
    "    img_dir = out_dir + dir\n",
    "    fs = glob.glob(img_dir+\"/*\")\n",
    "    print(\"dir=\"+img_dir)\n",
    "    for j, f in enumerate(fs):\n",
    "        img = cv2.imread(f)\n",
    "        img = cv2.cvtColor(img, cv2.COLOR_BGR2RGB)\n",
    "        img = cv2.resize(img, (im_size, im_size))\n",
    "        result.append([i, img])\n",
    "        if j == 5:\n",
    "            plt.subplot(2, 2, i+1)\n",
    "            plt.axis(\"off\")\n",
    "            plt.title(str(i))\n",
    "            plt.imshow(img)\n",
    "# ラベルと画像データを保存\n",
    "pickle.dump(result, open(save_file, \"wb\"))\n",
    "plt.show()"
   ]
  },
  {
   "cell_type": "markdown",
   "metadata": {},
   "source": [
    "# 3 データ取得と変換"
   ]
  },
  {
   "cell_type": "code",
   "execution_count": null,
   "metadata": {},
   "outputs": [],
   "source": [
    "# 初期処理\n",
    "import numpy as np\n",
    "import cv2\n",
    "import matplotlib.pyplot as plt\n",
    "import pickle\n",
    "from sklearn.model_selection import train_test_split\n",
    "import keras\n",
    "from keras.models import Sequential\n",
    "from keras.layers import Dense, Dropout\n",
    "from keras.optimizers import RMSprop\n",
    "import matplotlib.pyplot as plt\n",
    "\n",
    "# データファイルと画像サイズの指定\n",
    "data_file = \"./data/human/humandata2.pickle\"\n",
    "im_size = 50\n",
    "im_color = 3\n",
    "in_size = im_size**2*im_color\n",
    "out_size = 2 # 0:男 1:女\n"
   ]
  },
  {
   "cell_type": "code",
   "execution_count": null,
   "metadata": {},
   "outputs": [],
   "source": [
    "data = pickle.load(open(data_file, 'rb'))\n",
    "\n",
    "# 画像データを0-1の範囲に直す\n",
    "y=[]\n",
    "x=[]\n",
    "\n",
    "for d in data:\n",
    "    (num, img) = d\n",
    "    img = img.reshape(-1).astype('float32')/255\n",
    "    y.append(keras.utils.to_categorical(num, out_size))\n",
    "    x.append(img)\n",
    "x = np.array(x)\n",
    "y = np.array(y)"
   ]
  },
  {
   "cell_type": "markdown",
   "metadata": {},
   "source": [
    "# 3 データの分割"
   ]
  },
  {
   "cell_type": "code",
   "execution_count": null,
   "metadata": {},
   "outputs": [],
   "source": [
    "x_train, x_test, y_train, y_test = train_test_split(x, y, test_size = 0.2)"
   ]
  },
  {
   "cell_type": "code",
   "execution_count": null,
   "metadata": {},
   "outputs": [],
   "source": [
    "x_train.shape"
   ]
  },
  {
   "cell_type": "markdown",
   "metadata": {},
   "source": [
    "# 4 モデル構造の定義・モデルの構築"
   ]
  },
  {
   "cell_type": "code",
   "execution_count": null,
   "metadata": {},
   "outputs": [],
   "source": [
    "model = Sequential()\n",
    "model.add(Dense(512, activation = \"relu\", input_shape =(in_size,)))\n",
    "model.add(Dense(out_size, activation = \"softmax\"))\n",
    "model.summary()"
   ]
  },
  {
   "cell_type": "markdown",
   "metadata": {},
   "source": [
    "# 5 学習の実行・モデルの評価"
   ]
  },
  {
   "cell_type": "code",
   "execution_count": null,
   "metadata": {},
   "outputs": [],
   "source": [
    "# 学習を実行\n",
    "model.compile(\n",
    "    loss='categorical_crossentropy',\n",
    "    optimizer='adam',\n",
    "    metrics=['accuracy'],\n",
    ")"
   ]
  },
  {
   "cell_type": "code",
   "execution_count": null,
   "metadata": {},
   "outputs": [],
   "source": [
    "hist=model.fit(\n",
    "        x_train, y_train,\n",
    "          batch_size=20, # batch_sizeは、1回の学習で利用するデータ。1回のepochsで全データ数/batch_size分学習する。\n",
    "          epochs=100,\n",
    "          verbose=1,\n",
    "          validation_data=(x_test, y_test)) # 学習回数"
   ]
  },
  {
   "cell_type": "code",
   "execution_count": null,
   "metadata": {},
   "outputs": [],
   "source": [
    "# モデルを評価\n",
    "score = model.evaluate(x_test, y_test, verbose=1)\n",
    "print('正解率=', score[1], 'loss=', score[0])"
   ]
  },
  {
   "cell_type": "code",
   "execution_count": null,
   "metadata": {},
   "outputs": [],
   "source": [
    "#正解率の推移をプロット\n",
    "plt.plot(hist.history['accuracy'])\n",
    "plt.plot(hist.history['val_accuracy'])\n",
    "plt.title('Accuracy')\n",
    "plt.legend(['train','test'], loc='upper left')"
   ]
  },
  {
   "cell_type": "code",
   "execution_count": null,
   "metadata": {},
   "outputs": [],
   "source": [
    "#lossの推移をプロット\n",
    "plt.plot(hist.history['loss'])\n",
    "plt.plot(hist.history['val_loss'])\n",
    "plt.title('Loss')\n",
    "plt.legend(['train','test'], loc='upper left')"
   ]
  },
  {
   "cell_type": "code",
   "execution_count": null,
   "metadata": {},
   "outputs": [],
   "source": [
    "# モデルの保存\n",
    "model.save('./data/human_model2.h5')\n",
    "\n",
    "# 学習済み重みデータを保存\n",
    "model.save_weights('./data/human_weight2.h5')"
   ]
  },
  {
   "cell_type": "markdown",
   "metadata": {},
   "source": [
    "# データを予測\n",
    "\n",
    "- 0：男\n",
    "- 1：女"
   ]
  },
  {
   "cell_type": "code",
   "execution_count": null,
   "metadata": {},
   "outputs": [],
   "source": [
    "# 用意した画像を判定\n",
    "import cv2\n",
    "import matplotlib.pyplot as plt\n",
    "from keras.models import load_model\n",
    "im_size=50\n",
    "label = {0:\"男\", 1:\"女\"}\n",
    "# データの予測関数\n",
    "model = load_model(\"./data/human_model2.h5\")\n",
    "model.load_weights('./data/human_weight2.h5')\n",
    "def predict(filename):\n",
    "    # 用意した画像ファイルを読み込む\n",
    "    my_img = cv2.imread(filename)\n",
    "    #読みこんだ画像ファイルを学習時の画像サイズに合わせる\n",
    "    my_img = cv2.resize(my_img,(im_size, im_size))\n",
    "    my_img = cv2.cvtColor(my_img, cv2.COLOR_RGB2BGR)\n",
    "    plt.imshow(my_img,)\n",
    "    plt.show()\n",
    "    my_img = my_img.reshape(1,7500).astype('float32') \n",
    "    \n",
    "    # データを予測する\n",
    "    result = model.predict(my_img)\n",
    "    dic= label[np.argmax(result[0])]\n",
    "    per = result[0][np.argmax(result[0])]\n",
    "    return dic,per\n",
    "# 画像データを指定して予測関数を実行\n",
    "testfile = './data/test/woman/000002.jpg' # 女\n",
    "dic,per = predict(testfile)\n",
    "print(testfile , '=', dic,per)"
   ]
  },
  {
   "cell_type": "code",
   "execution_count": null,
   "metadata": {},
   "outputs": [],
   "source": [
    "# 画像データを指定して予測関数を実行\n",
    "testfile = './data/test/man/000003.jpg' # 男\n",
    "dic,per = predict(testfile)\n",
    "print(testfile , '=', dic,per)"
   ]
  }
 ],
 "metadata": {
  "kernelspec": {
   "display_name": "Python 3.9.12 ('AI')",
   "language": "python",
   "name": "python3"
  },
  "language_info": {
   "codemirror_mode": {
    "name": "ipython",
    "version": 3
   },
   "file_extension": ".py",
   "mimetype": "text/x-python",
   "name": "python",
   "nbconvert_exporter": "python",
   "pygments_lexer": "ipython3",
   "version": "3.9.12"
  },
  "orig_nbformat": 4,
  "vscode": {
   "interpreter": {
    "hash": "543cfef9e21c5b4f4df6d19e189441783b47108d35ca95eb0e1ae4bba5dcea2d"
   }
  }
 },
 "nbformat": 4,
 "nbformat_minor": 2
}
